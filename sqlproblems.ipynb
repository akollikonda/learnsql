{
    "metadata": {
        "kernelspec": {
            "name": "SQL",
            "display_name": "SQL",
            "language": "sql"
        },
        "language_info": {
            "name": "sql",
            "version": ""
        }
    },
    "nbformat_minor": 2,
    "nbformat": 4,
    "cells": [
        {
            "cell_type": "code",
            "source": [
                "use learnsql;"
            ],
            "metadata": {
                "azdata_cell_guid": "3c94e4b4-2232-4d2a-9140-1e7766b07b30",
                "language": "sql"
            },
            "outputs": [
                {
                    "output_type": "display_data",
                    "data": {
                        "text/html": "Commands completed successfully"
                    },
                    "metadata": {}
                },
                {
                    "output_type": "display_data",
                    "data": {
                        "text/html": "Total execution time: 00:00:00.001"
                    },
                    "metadata": {}
                }
            ],
            "execution_count": 1
        },
        {
            "cell_type": "code",
            "source": [
                "CREATE TABLE events (\n",
                "ID int,\n",
                "event varchar(255),\n",
                "YEAR INt,\n",
                "GOLD varchar(255),\n",
                "SILVER varchar(255),\n",
                "BRONZE varchar(255)\n",
                ");\n",
                "\n",
                "delete from events;\n",
                "\n",
                "INSERT INTO events VALUES (1,'100m',2016, 'Amthhew Mcgarray','donald','barbara');\n",
                "INSERT INTO events VALUES (2,'200m',2016, 'Nichole','Alvaro Eaton','janet Smith');\n",
                "INSERT INTO events VALUES (3,'500m',2016, 'Charles','Nichole','Susana');\n",
                "INSERT INTO events VALUES (4,'100m',2016, 'Ronald','maria','paula');\n",
                "INSERT INTO events VALUES (5,'200m',2016, 'Alfred','carol','Steven');\n",
                "INSERT INTO events VALUES (6,'500m',2016, 'Nichole','Alfred','Brandon');\n",
                "INSERT INTO events VALUES (7,'100m',2016, 'Charles','Dennis','Susana');\n",
                "INSERT INTO events VALUES (8,'200m',2016, 'Thomas','Dawn','catherine');\n",
                "INSERT INTO events VALUES (9,'500m',2016, 'Thomas','Dennis','paula');\n",
                "INSERT INTO events VALUES (10,'100m',2016, 'Charles','Dennis','Susana');\n",
                "INSERT INTO events VALUES (11,'200m',2016, 'jessica','Donald','Stefeney');\n",
                "INSERT INTO events VALUES (12,'500m',2016,'Thomas','Steven','Catherine');"
            ],
            "metadata": {
                "language": "sql",
                "azdata_cell_guid": "a8238f51-7270-48c5-89df-d9233e778f4a"
            },
            "outputs": [
                {
                    "output_type": "display_data",
                    "data": {
                        "text/html": "Commands completed successfully"
                    },
                    "metadata": {}
                },
                {
                    "output_type": "display_data",
                    "data": {
                        "text/html": "Commands completed successfully"
                    },
                    "metadata": {}
                },
                {
                    "output_type": "display_data",
                    "data": {
                        "text/html": "Commands completed successfully"
                    },
                    "metadata": {}
                },
                {
                    "output_type": "display_data",
                    "data": {
                        "text/html": "Commands completed successfully"
                    },
                    "metadata": {}
                },
                {
                    "output_type": "display_data",
                    "data": {
                        "text/html": "Commands completed successfully"
                    },
                    "metadata": {}
                },
                {
                    "output_type": "display_data",
                    "data": {
                        "text/html": "Commands completed successfully"
                    },
                    "metadata": {}
                },
                {
                    "output_type": "display_data",
                    "data": {
                        "text/html": "Commands completed successfully"
                    },
                    "metadata": {}
                },
                {
                    "output_type": "display_data",
                    "data": {
                        "text/html": "Commands completed successfully"
                    },
                    "metadata": {}
                },
                {
                    "output_type": "display_data",
                    "data": {
                        "text/html": "Commands completed successfully"
                    },
                    "metadata": {}
                },
                {
                    "output_type": "display_data",
                    "data": {
                        "text/html": "Commands completed successfully"
                    },
                    "metadata": {}
                },
                {
                    "output_type": "display_data",
                    "data": {
                        "text/html": "Commands completed successfully"
                    },
                    "metadata": {}
                },
                {
                    "output_type": "display_data",
                    "data": {
                        "text/html": "Commands completed successfully"
                    },
                    "metadata": {}
                },
                {
                    "output_type": "display_data",
                    "data": {
                        "text/html": "Commands completed successfully"
                    },
                    "metadata": {}
                },
                {
                    "output_type": "display_data",
                    "data": {
                        "text/html": "Commands completed successfully"
                    },
                    "metadata": {}
                },
                {
                    "output_type": "display_data",
                    "data": {
                        "text/html": "Total execution time: 00:00:00.059"
                    },
                    "metadata": {}
                }
            ],
            "execution_count": 2
        },
        {
            "cell_type": "markdown",
            "source": [
                "<span style=\"color: rgb(241, 241, 241); font-family: Roboto, Arial, sans-serif; white-space: pre-wrap; background-color: rgba(255, 255, 255, 0.1);\">#Where we need to find player with no of gold medals won by them only for players who won only gold medals.</span>\n",
                ""
            ],
            "metadata": {
                "language": "sql",
                "azdata_cell_guid": "ddd1e74d-6010-4dc1-b52c-dad51e298ccd"
            },
            "attachments": {}
        },
        {
            "cell_type": "code",
            "source": [
                "select * from events;\n",
                "\n",
                "select \n",
                "    GOLD, count(*)\n",
                "FROM events\n",
                "where (GOLD not in(select silver from events union all select bronze from events))\n",
                "group by Gold;"
            ],
            "metadata": {
                "azdata_cell_guid": "61f12030-a016-4a09-ad42-823be0a93178",
                "language": "sql"
            },
            "outputs": [
                {
                    "output_type": "display_data",
                    "data": {
                        "text/html": "(12 row(s) affected)"
                    },
                    "metadata": {}
                },
                {
                    "output_type": "display_data",
                    "data": {
                        "text/html": "(5 row(s) affected)"
                    },
                    "metadata": {}
                },
                {
                    "output_type": "display_data",
                    "data": {
                        "text/html": "Total execution time: 00:00:00.006"
                    },
                    "metadata": {}
                },
                {
                    "output_type": "execute_result",
                    "execution_count": 7,
                    "data": {
                        "application/vnd.dataresource+json": {
                            "schema": {
                                "fields": [
                                    {
                                        "name": "ID"
                                    },
                                    {
                                        "name": "event"
                                    },
                                    {
                                        "name": "YEAR"
                                    },
                                    {
                                        "name": "GOLD"
                                    },
                                    {
                                        "name": "SILVER"
                                    },
                                    {
                                        "name": "BRONZE"
                                    }
                                ]
                            },
                            "data": [
                                {
                                    "0": "1",
                                    "1": "100m",
                                    "2": "2016",
                                    "3": "Amthhew Mcgarray",
                                    "4": "donald",
                                    "5": "barbara"
                                },
                                {
                                    "0": "2",
                                    "1": "200m",
                                    "2": "2016",
                                    "3": "Nichole",
                                    "4": "Alvaro Eaton",
                                    "5": "janet Smith"
                                },
                                {
                                    "0": "3",
                                    "1": "500m",
                                    "2": "2016",
                                    "3": "Charles",
                                    "4": "Nichole",
                                    "5": "Susana"
                                },
                                {
                                    "0": "4",
                                    "1": "100m",
                                    "2": "2016",
                                    "3": "Ronald",
                                    "4": "maria",
                                    "5": "paula"
                                },
                                {
                                    "0": "5",
                                    "1": "200m",
                                    "2": "2016",
                                    "3": "Alfred",
                                    "4": "carol",
                                    "5": "Steven"
                                },
                                {
                                    "0": "6",
                                    "1": "500m",
                                    "2": "2016",
                                    "3": "Nichole",
                                    "4": "Alfred",
                                    "5": "Brandon"
                                },
                                {
                                    "0": "7",
                                    "1": "100m",
                                    "2": "2016",
                                    "3": "Charles",
                                    "4": "Dennis",
                                    "5": "Susana"
                                },
                                {
                                    "0": "8",
                                    "1": "200m",
                                    "2": "2016",
                                    "3": "Thomas",
                                    "4": "Dawn",
                                    "5": "catherine"
                                },
                                {
                                    "0": "9",
                                    "1": "500m",
                                    "2": "2016",
                                    "3": "Thomas",
                                    "4": "Dennis",
                                    "5": "paula"
                                },
                                {
                                    "0": "10",
                                    "1": "100m",
                                    "2": "2016",
                                    "3": "Charles",
                                    "4": "Dennis",
                                    "5": "Susana"
                                },
                                {
                                    "0": "11",
                                    "1": "200m",
                                    "2": "2016",
                                    "3": "jessica",
                                    "4": "Donald",
                                    "5": "Stefeney"
                                },
                                {
                                    "0": "12",
                                    "1": "500m",
                                    "2": "2016",
                                    "3": "Thomas",
                                    "4": "Steven",
                                    "5": "Catherine"
                                }
                            ]
                        },
                        "text/html": "<table><tr><th>ID</th><th>event</th><th>YEAR</th><th>GOLD</th><th>SILVER</th><th>BRONZE</th></tr><tr><td>1</td><td>100m</td><td>2016</td><td>Amthhew Mcgarray</td><td>donald</td><td>barbara</td></tr><tr><td>2</td><td>200m</td><td>2016</td><td>Nichole</td><td>Alvaro Eaton</td><td>janet Smith</td></tr><tr><td>3</td><td>500m</td><td>2016</td><td>Charles</td><td>Nichole</td><td>Susana</td></tr><tr><td>4</td><td>100m</td><td>2016</td><td>Ronald</td><td>maria</td><td>paula</td></tr><tr><td>5</td><td>200m</td><td>2016</td><td>Alfred</td><td>carol</td><td>Steven</td></tr><tr><td>6</td><td>500m</td><td>2016</td><td>Nichole</td><td>Alfred</td><td>Brandon</td></tr><tr><td>7</td><td>100m</td><td>2016</td><td>Charles</td><td>Dennis</td><td>Susana</td></tr><tr><td>8</td><td>200m</td><td>2016</td><td>Thomas</td><td>Dawn</td><td>catherine</td></tr><tr><td>9</td><td>500m</td><td>2016</td><td>Thomas</td><td>Dennis</td><td>paula</td></tr><tr><td>10</td><td>100m</td><td>2016</td><td>Charles</td><td>Dennis</td><td>Susana</td></tr><tr><td>11</td><td>200m</td><td>2016</td><td>jessica</td><td>Donald</td><td>Stefeney</td></tr><tr><td>12</td><td>500m</td><td>2016</td><td>Thomas</td><td>Steven</td><td>Catherine</td></tr></table>"
                    },
                    "metadata": {}
                },
                {
                    "output_type": "execute_result",
                    "execution_count": 7,
                    "data": {
                        "application/vnd.dataresource+json": {
                            "schema": {
                                "fields": [
                                    {
                                        "name": "GOLD"
                                    },
                                    {
                                        "name": "count(*)"
                                    }
                                ]
                            },
                            "data": [
                                {
                                    "0": "Amthhew Mcgarray",
                                    "1": "1"
                                },
                                {
                                    "0": "Charles",
                                    "1": "3"
                                },
                                {
                                    "0": "Ronald",
                                    "1": "1"
                                },
                                {
                                    "0": "Thomas",
                                    "1": "3"
                                },
                                {
                                    "0": "jessica",
                                    "1": "1"
                                }
                            ]
                        },
                        "text/html": "<table><tr><th>GOLD</th><th>count(*)</th></tr><tr><td>Amthhew Mcgarray</td><td>1</td></tr><tr><td>Charles</td><td>3</td></tr><tr><td>Ronald</td><td>1</td></tr><tr><td>Thomas</td><td>3</td></tr><tr><td>jessica</td><td>1</td></tr></table>"
                    },
                    "metadata": {}
                }
            ],
            "execution_count": 7
        }
    ]
}